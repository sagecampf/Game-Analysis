{
 "cells": [
  {
   "cell_type": "markdown",
   "id": "5c929cc4-8cc3-452a-bdb3-bf6efd67c1f7",
   "metadata": {},
   "source": [
    "## A/B Testing For Significance in Gate Appearances "
   ]
  },
  {
   "cell_type": "markdown",
   "id": "49d93ecd-3740-42c7-a0fd-665d3a5ca3b0",
   "metadata": {},
   "source": [
    "We want to test for statistical significance in the appearance of \"Gates\" at level 30 and 40 in the game. If there is a difference, we should highlight it and take needed action. \n",
    "\n",
    "First we'd like to explore the data is valid and cleaned"
   ]
  },
  {
   "cell_type": "code",
   "execution_count": 3,
   "id": "65d76a00-4b80-4f0e-a302-29a73f6d6bfe",
   "metadata": {},
   "outputs": [
    {
     "name": "stdout",
     "output_type": "stream",
     "text": [
      "   userid  version  sum_gamerounds  retention_1  retention_7\n",
      "0     116  gate_30               3        False        False\n",
      "1     337  gate_30              38         True        False\n",
      "2     377  gate_40             165         True        False\n",
      "3     483  gate_40               1        False        False\n",
      "4     488  gate_40             179         True         True\n"
     ]
    }
   ],
   "source": [
    "#import basic packages and check data\n",
    "import pandas as pd\n",
    "import numpy as np\n",
    "\n",
    "data = pd.read_csv('gamedata.csv')\n",
    "print(data.head())"
   ]
  },
  {
   "cell_type": "code",
   "execution_count": 4,
   "id": "09c1bb83-f6e6-4ff6-9814-a05598adce73",
   "metadata": {},
   "outputs": [
    {
     "name": "stdout",
     "output_type": "stream",
     "text": [
      "<class 'pandas.core.frame.DataFrame'>\n",
      "RangeIndex: 90189 entries, 0 to 90188\n",
      "Data columns (total 5 columns):\n",
      " #   Column          Non-Null Count  Dtype \n",
      "---  ------          --------------  ----- \n",
      " 0   userid          90189 non-null  int64 \n",
      " 1   version         90189 non-null  object\n",
      " 2   sum_gamerounds  90189 non-null  int64 \n",
      " 3   retention_1     90189 non-null  bool  \n",
      " 4   retention_7     90189 non-null  bool  \n",
      "dtypes: bool(2), int64(2), object(1)\n",
      "memory usage: 2.2+ MB\n",
      "None\n",
      "retention_1\n",
      "False    50036\n",
      "True     40153\n",
      "Name: count, dtype: int64\n",
      "retention_7\n",
      "False    73408\n",
      "True     16781\n",
      "Name: count, dtype: int64\n",
      "0\n"
     ]
    }
   ],
   "source": [
    "#review data is valid and cleaned\n",
    "print(data.info())\n",
    "print(data['retention_1'].value_counts())\n",
    "print(data['retention_7'].value_counts())\n",
    "print(data['userid'].duplicated().sum())"
   ]
  },
  {
   "cell_type": "markdown",
   "id": "2fd3fac7-6659-4c17-8d72-99a11a04d521",
   "metadata": {},
   "source": [
    "Now that the data looks validated, we can look at general proportions of people who came back to play the game after 1 day in the 'retention_1' binary column for True/False in total and in between A/B segements"
   ]
  },
  {
   "cell_type": "code",
   "execution_count": 6,
   "id": "e97644ed-b1f9-4e07-9e88-d84a33cf215d",
   "metadata": {},
   "outputs": [
    {
     "name": "stdout",
     "output_type": "stream",
     "text": [
      "0.4452095044850259\n",
      "version\n",
      "gate_30    0.448188\n",
      "gate_40    0.442283\n",
      "Name: retention_1, dtype: float64\n"
     ]
    }
   ],
   "source": [
    "# percent of all players that came back after 1 day\n",
    "print(data['retention_1'].mean())\n",
    "\n",
    "# percent of all players that came back after 1 day between A/B groups\n",
    "print(data.groupby('version')['retention_1'].mean())\n"
   ]
  },
  {
   "cell_type": "markdown",
   "id": "ecca90e5-e3cc-4dab-96d3-5348c782ffc8",
   "metadata": {},
   "source": [
    "Looking at the averages, gate 30 seems to have a better retention but we cannot be sure this is statistically significant without testing since it is such a small difference.\n",
    "\n",
    "Since data is categorical, we can look into a chi test beacuse normalcy and variance wouldn't play a big role. Similarly, a bootstrap approach looking into differences would also not require normalcy just a large enough sample. We can use both to verify our findings."
   ]
  },
  {
   "cell_type": "code",
   "execution_count": 8,
   "id": "e7c68b4d-c332-4412-87fa-7f94c0795bb3",
   "metadata": {},
   "outputs": [
    {
     "name": "stdout",
     "output_type": "stream",
     "text": [
      "version\n",
      "gate_40    45489\n",
      "gate_30    44700\n",
      "Name: count, dtype: int64\n"
     ]
    }
   ],
   "source": [
    "# Check that there are roughly the same amount of users in each group version (30/40)\n",
    "print(data['version'].value_counts())"
   ]
  },
  {
   "cell_type": "markdown",
   "id": "625784fb-5ea9-4e8e-8e64-351f7b89ecdf",
   "metadata": {},
   "source": [
    "## Performing statistical tests to validate (CHI Squared test for independence/bootstraps)"
   ]
  },
  {
   "cell_type": "code",
   "execution_count": 10,
   "id": "7940f008-f145-4a8d-b13f-9681958bb298",
   "metadata": {},
   "outputs": [
    {
     "name": "stdout",
     "output_type": "stream",
     "text": [
      "Chi2ContingencyResult(statistic=3.1591007878782262, pvalue=0.07550476210309086, dof=1, expected_freq=array([[24799.13514952, 19900.86485048],\n",
      "       [25236.86485048, 20252.13514952]]))\n",
      "version\n",
      "gate_30    0.448188\n",
      "gate_40    0.442283\n",
      "Name: retention_1, dtype: float64\n"
     ]
    }
   ],
   "source": [
    "# import package\n",
    "from scipy.stats import chi2_contingency\n",
    "\n",
    "# Create a contingency table for the A/B test partitioning data (retention_1 vs version)\n",
    "contingency_table = pd.crosstab(data['version'], data['retention_1'])\n",
    "\n",
    "# Perform a chi-square test for independence\n",
    "print(chi2_contingency(contingency_table))\n",
    "\n",
    "# Compare retention rates for each version\n",
    "print(data.groupby('version')['retention_1'].mean())\n",
    "\n"
   ]
  },
  {
   "cell_type": "markdown",
   "id": "f2d27c3e-1778-43a1-b15a-f1f107c40242",
   "metadata": {},
   "source": [
    "With a pvalue over 5% we cannot reject the null at this level. There is no significant difference.\n",
    "\n",
    "We can now verify our results using the bootstrap method. This method selects with replacement from the data to create new averages over a large list to approximate if there is a significant difference in retention rates"
   ]
  },
  {
   "cell_type": "code",
   "execution_count": null,
   "id": "eb4da630-4e9c-4a95-a3b8-bce4b6151ec7",
   "metadata": {},
   "outputs": [],
   "source": [
    "# create parameters for bootstrapping\n",
    "n_bootstraps = 10000\n",
    "bootstrap_30 = []\n",
    "bootstrap_40 = []\n",
    "bootstrap_diffs = []\n",
    "\n",
    "# split the data into 30/40 gates\n",
    "gate_30_retention = data[data['version'] == 'gate_30']['retention_1']\n",
    "gate_40_retention = data[data['version'] == 'gate_40']['retention_1']\n",
    "\n",
    "\n",
    "# create a loop to do the bootstrapping samples and place into bootstrap_diffs list object\n",
    "for x in range(n_bootstraps):\n",
    "    # Resample with replacement and calculate mean retention for each version\n",
    "    gate_30_sample = np.random.choice(gate_30_retention, size=len(gate_30_retention), replace=True).mean()\n",
    "    gate_40_sample = np.random.choice(gate_40_retention, size=len(gate_40_retention), replace=True).mean()\n",
    "\n",
    "    bootstrap_30.append(gate_30_sample)\n",
    "    bootstrap_40.append(gate_40_sample)\n",
    "    \n",
    "    # Calculate the difference in retention rates\n",
    "    bootstrap_diffs.append(gate_30_sample - gate_40_sample)\n",
    "\n",
    "\n",
    "\n",
    "b3 = pd.DataFrame(bootstrap_30, columns =['gate_30'])\n",
    "b4 = pd.DataFrame(bootstrap_40, columns =['gate_40'])\n",
    "df = pd.concat([b3, b4], axis = 1)\n",
    "\n",
    "df_diff = pd.DataFrame(bootstrap_diffs, columns = ['diff'])\n",
    "\n",
    "# plot them on the same axis to see differences\n",
    "df.plot(kind='kde')\n",
    "\n",
    "# plot their differences\n",
    "df_diff.plot(kind='kde')\n",
    "\n"
   ]
  },
  {
   "cell_type": "code",
   "execution_count": 30,
   "id": "26b2a821-7b07-4b19-8a3c-3a03acf0595a",
   "metadata": {},
   "outputs": [
    {
     "name": "stdout",
     "output_type": "stream",
     "text": [
      "0.9602\n"
     ]
    }
   ],
   "source": [
    "# Calculating the probability that 1-day retention difference is greater than 0 at gate_30\n",
    "prob = (df_diff['diff'] > 0).sum() / len(df_diff)\n",
    "print(prob)"
   ]
  },
  {
   "cell_type": "markdown",
   "id": "3c63ca7c-9858-4e15-857a-0ee73e85e142",
   "metadata": {},
   "source": [
    "Looking at the graphs and calculating the probability that the difference is grater than 0 shows a slight push towards gate_30 likely being more effective, however we should still look further and check the confidence interval"
   ]
  },
  {
   "cell_type": "code",
   "execution_count": 28,
   "id": "366998d6-c568-44c5-b177-df1da0c72d51",
   "metadata": {},
   "outputs": [
    {
     "name": "stdout",
     "output_type": "stream",
     "text": [
      "0.9602\n"
     ]
    },
    {
     "data": {
      "text/plain": [
       "(0.005869476764277107, array([-0.00061642,  0.01238425]))"
      ]
     },
     "execution_count": 28,
     "metadata": {},
     "output_type": "execute_result"
    }
   ],
   "source": [
    "# Calculate the 95% confidence interval for the difference in retention rates\n",
    "conf_interval = np.percentile(bootstrap_diffs, [2.5, 97.5])\n",
    "mean_diff = np.mean(bootstrap_diffs)\n",
    "\n",
    "mean_diff, conf_interval"
   ]
  },
  {
   "cell_type": "markdown",
   "id": "758c8138-eeb1-4686-91e9-acf0a2df4271",
   "metadata": {},
   "source": [
    "Since 0 lies in our confidence interval, at this level we would reject that there is a difference again verifying our first chi-squared test. However, since most of the differences lie above 0, we can further look into 7-day retention since users are also more likely to actually reach gate_40 over a longer period of time and 1-day retention may not be the greatest indicator\n",
    "\n",
    "\n"
   ]
  },
  {
   "cell_type": "markdown",
   "id": "d87a4138-7ef6-4e22-af56-67a7d0563371",
   "metadata": {},
   "source": [
    "## Statistical testing on retention_7"
   ]
  },
  {
   "cell_type": "code",
   "execution_count": 48,
   "id": "21c12200-09ec-4600-a9a9-321efa23e77f",
   "metadata": {},
   "outputs": [
    {
     "name": "stdout",
     "output_type": "stream",
     "text": [
      "version\n",
      "gate_30    0.190201\n",
      "gate_40    0.182000\n",
      "Name: retention_7, dtype: float64\n"
     ]
    }
   ],
   "source": [
    "# Inspect 7 day retention distributions\n",
    "print(data.groupby('version')['retention_7'].mean())"
   ]
  },
  {
   "cell_type": "markdown",
   "id": "6b36c649-b78d-4733-82b8-0196987c4674",
   "metadata": {},
   "source": [
    "Gate_30 looks to have a higher avereage retention but lets analyze it statistically to be sure"
   ]
  },
  {
   "cell_type": "code",
   "execution_count": 53,
   "id": "40e601ae-facc-4d06-bcf3-94f6ab64e2ce",
   "metadata": {},
   "outputs": [
    {
     "name": "stdout",
     "output_type": "stream",
     "text": [
      "Chi2ContingencyResult(statistic=9.959086799559167, pvalue=0.0016005742679058301, dof=1, expected_freq=array([[36382.90257127,  8317.09742873],\n",
      "       [37025.09742873,  8463.90257127]]))\n"
     ]
    }
   ],
   "source": [
    "# Create a contingency table for the A/B test partitioning data (retention_7 vs version)\n",
    "contingency_table = pd.crosstab(data['version'], data['retention_7'])\n",
    "\n",
    "# Perform a chi-square test for independence\n",
    "print(chi2_contingency(contingency_table))"
   ]
  },
  {
   "cell_type": "markdown",
   "id": "7df31574-c976-47e1-b1d4-7c60ca52f0a4",
   "metadata": {},
   "source": [
    "With a pvalue of .16% we feel more confident that at least for 7-day retention, we can reject the null that there is no difference between the placement of gates and that gate_30 is likely statistically better suited. Let's now boostrap to see if we arrive at similar results."
   ]
  },
  {
   "cell_type": "code",
   "execution_count": 56,
   "id": "745e44b7-4053-4ee9-809a-03d0bae33062",
   "metadata": {},
   "outputs": [
    {
     "data": {
      "text/plain": [
       "<Axes: ylabel='Density'>"
      ]
     },
     "execution_count": 56,
     "metadata": {},
     "output_type": "execute_result"
    },
    {
     "data": {
      "image/png": "[encoded data removed]",
      "text/plain": [
       "<Figure size 640x480 with 1 Axes>"
      ]
     },
     "metadata": {},
     "output_type": "display_data"
    },
    {
     "data": {
      "image/png": "[encoded data removed]",
      "text/plain": [
       "<Figure size 640x480 with 1 Axes>"
      ]
     },
     "metadata": {},
     "output_type": "display_data"
    }
   ],
   "source": [
    "# create parameters for bootstrapping\n",
    "n_bootstraps = 10000\n",
    "bootstrap_30 = []\n",
    "bootstrap_40 = []\n",
    "bootstrap_diffs = []\n",
    "\n",
    "# split the data into 30/40 gates\n",
    "gate_30_retention = data[data['version'] == 'gate_30']['retention_7']\n",
    "gate_40_retention = data[data['version'] == 'gate_40']['retention_7']\n",
    "\n",
    "\n",
    "# create a loop to do the bootstrapping samples and place into bootstrap_diffs list object\n",
    "for x in range(n_bootstraps):\n",
    "    # Resample with replacement and calculate mean retention for each version\n",
    "    gate_30_sample = np.random.choice(gate_30_retention, size=len(gate_30_retention), replace=True).mean()\n",
    "    gate_40_sample = np.random.choice(gate_40_retention, size=len(gate_40_retention), replace=True).mean()\n",
    "\n",
    "    bootstrap_30.append(gate_30_sample)\n",
    "    bootstrap_40.append(gate_40_sample)\n",
    "    \n",
    "    # Calculate the difference in retention rates\n",
    "    bootstrap_diffs.append(gate_30_sample - gate_40_sample)\n",
    "\n",
    "\n",
    "\n",
    "b3 = pd.DataFrame(bootstrap_30, columns =['gate_30'])\n",
    "b4 = pd.DataFrame(bootstrap_40, columns =['gate_40'])\n",
    "df = pd.concat([b3, b4], axis = 1)\n",
    "\n",
    "df_diff = pd.DataFrame(bootstrap_diffs, columns = ['diff'])\n",
    "\n",
    "# plot them on the same axis to see differences\n",
    "df.plot(kind='kde')\n",
    "\n",
    "# plot their differences\n",
    "df_diff.plot(kind='kde')\n",
    "\n"
   ]
  },
  {
   "cell_type": "code",
   "execution_count": 58,
   "id": "4addbfed-c636-4ca3-9994-5d8efb208b20",
   "metadata": {},
   "outputs": [
    {
     "name": "stdout",
     "output_type": "stream",
     "text": [
      "0.9992\n"
     ]
    },
    {
     "data": {
      "text/plain": [
       "(0.008237282652299891, array([0.00317233, 0.01328373]))"
      ]
     },
     "execution_count": 58,
     "metadata": {},
     "output_type": "execute_result"
    }
   ],
   "source": [
    "# Calculating the probability that 1-day retention difference is greater than 0 at gate_30\n",
    "prob = (df_diff['diff'] > 0).sum() / len(df_diff)\n",
    "print(prob)\n",
    "\n",
    "# Calculate the 95% confidence interval for the difference in retention rates\n",
    "conf_interval = np.percentile(bootstrap_diffs, [2.5, 97.5])\n",
    "mean_diff = np.mean(bootstrap_diffs)\n",
    "\n",
    "mean_diff, conf_interval"
   ]
  },
  {
   "cell_type": "markdown",
   "id": "68db56b8-c257-4527-b9c4-e05af780eee7",
   "metadata": {},
   "source": [
    "Now, a difference of 0 is not in our confidence interval and the graph shows most of the data lies above."
   ]
  }
 ],
 "metadata": {
  "kernelspec": {
   "display_name": "Python 3 (ipykernel)",
   "language": "python",
   "name": "python3"
  },
  "language_info": {
   "codemirror_mode": {
    "name": "ipython",
    "version": 3
   },
   "file_extension": ".py",
   "mimetype": "text/x-python",
   "name": "python",
   "nbconvert_exporter": "python",
   "pygments_lexer": "ipython3",
   "version": "3.12.7"
  }
 },
 "nbformat": 4,
 "nbformat_minor": 5
}
